{
  "nbformat": 4,
  "nbformat_minor": 0,
  "metadata": {
    "colab": {
      "provenance": [],
      "toc_visible": true
    },
    "kernelspec": {
      "name": "python3",
      "display_name": "Python 3"
    },
    "language_info": {
      "name": "python"
    }
  },
  "cells": [
    {
      "cell_type": "markdown",
      "source": [
        "<img src=\"https://techcrunch.com/wp-content/uploads/2020/06/GettyImages-1149449083.jpg?w=1390&crop=1\" alt=\"Youtube\" width=\"600\" />\n",
        "\n",
        "# YOUTUBE SPAM COMMENT CLASSIFIER - NAIVE BAYES\n",
        "\n",
        "Youtube has been a place for big public space for all ranging from chilren to the old... The comments in the Youtube are visible to each visitor. Some bad folks use the comment section to trick some visitors to direct some traffic to their link. It is especially dangerous if the link consists of harmful content (virus, trojans, etc...) or even inproper content (adult contents, illegal drugs, etc...).\n",
        "\n",
        "**Motiviation 👐**\n",
        "\n",
        "Being a tech giant brings responsibility of controlling the content created by other users visible to others. It puts legal and ethical pressure on Youtube development team to ensure avoiding spam comments and well maintaining the content. \n",
        "\n",
        "The development team at Youtube was asked to sort out the bad/spam comments to avoid any side effects on the community, particulary to the kids. They were urgently asked to flag bad comments in their comment systems.\n",
        "\n",
        "**Dataset 🟥**\n",
        "\n",
        "Datasource is obtained from the website of [UCI](https://archive.ics.uci.edu/ml/machine-learning-databases/00380/).  \n",
        "The comments were collected via the YouTube API from five of the ten most viewed videos on YouTube in the first half of 2015. All 5 are music videos. One of them is “Gangnam Style” by Korean artist Psy. The other artists were Katy Perry, LMFAO, Eminem, and Shakira.\n",
        "\n",
        "**Target**🎯\n",
        "\n",
        "The goal of this project to train a machine learning model that can predict whether a comment is a spam or not.\n",
        "\n",
        "For this purpose, we will use Naive Bayes algorithms confirming to our cases: Multinomial and Complement approaches."
      ],
      "metadata": {
        "id": "Mnp8whl765g8"
      }
    },
    {
      "cell_type": "markdown",
      "source": [
        "# SETUP LIBRARIES 🧪"
      ],
      "metadata": {
        "id": "5IREj6dZ63TN"
      }
    },
    {
      "cell_type": "code",
      "execution_count": 54,
      "metadata": {
        "id": "qRxw_Kgr40j0"
      },
      "outputs": [],
      "source": [
        "#libs to handle data\n",
        "import pandas as pd\n",
        "import numpy as np\n",
        "\n",
        "#loading sklearn libs\n",
        "from sklearn.feature_extraction.text import CountVectorizer\n",
        "from sklearn.model_selection import train_test_split\n",
        "from sklearn.naive_bayes import MultinomialNB, ComplementNB\n",
        "from sklearn.metrics import ConfusionMatrixDisplay, classification_report\n",
        "\n",
        "#loading plotting libs\n",
        "import matplotlib.pyplot as plt\n",
        "import seaborn as sns"
      ]
    },
    {
      "cell_type": "markdown",
      "source": [
        "# LOADING **DATA**"
      ],
      "metadata": {
        "id": "ff2-Ksaq615T"
      }
    },
    {
      "cell_type": "code",
      "source": [
        "#list of files\n",
        "files = ['Youtube01.csv','Youtube02.csv', 'Youtube03.csv',\n",
        "         'Youtube04.csv', 'Youtube05.csv']"
      ],
      "metadata": {
        "id": "sK112RaU5kxj"
      },
      "execution_count": 3,
      "outputs": []
    },
    {
      "cell_type": "code",
      "source": [
        "# Reading files with a loop\n",
        "# During each iteration, create a pandas DataFrame by reading the current .csv file. \n",
        "# Drop the unneccesary columns (along axis 1) and append the dataframe to the 'all_df' list.\n",
        "all_df = []\n",
        "for ii in files: \n",
        "    all_df.append(pd.read_csv('data/'+ii).drop(['COMMENT_ID','AUTHOR','DATE'],axis= 1))"
      ],
      "metadata": {
        "id": "fIprSxUl5m0X"
      },
      "execution_count": 56,
      "outputs": []
    },
    {
      "cell_type": "code",
      "source": [
        "print('Class=0 for non-spam comments \\t Class=1 for spam comments')\n",
        "all_df[0].head(10)"
      ],
      "metadata": {
        "colab": {
          "base_uri": "https://localhost:8080/",
          "height": 381
        },
        "id": "BLaVYKqh6B5e",
        "outputId": "45aaa526-983c-4144-ace0-fd988b8fc4e6"
      },
      "execution_count": 77,
      "outputs": [
        {
          "output_type": "stream",
          "name": "stdout",
          "text": [
            "Class=0 for non-spam comments \t Class=1 for spam comments\n"
          ]
        },
        {
          "output_type": "execute_result",
          "data": {
            "text/plain": [
              "                                             CONTENT  CLASS\n",
              "0  Huh, anyway check out this you[tube] channel: ...      1\n",
              "1  Hey guys check out my new channel and our firs...      1\n",
              "2             just for test I have to say murdev.com      1\n",
              "3            watch?v=vtaRGgvGtWQ   Check this out .﻿      1\n",
              "4  Hey, check out my new website!! This site is a...      1\n",
              "5                          Subscribe to my channel ﻿      1\n",
              "6  i turned it on mute as soon is i came on i jus...      0\n",
              "7    You should check my channel for Funny VIDEOS!!﻿      1\n",
              "8  and u should.d check my channel and tell me wh...      1\n",
              "9                               Hey subscribe to me﻿      1"
            ],
            "text/html": [
              "\n",
              "  <div id=\"df-dcfe447f-5eba-4f46-9270-9e69f06afa45\">\n",
              "    <div class=\"colab-df-container\">\n",
              "      <div>\n",
              "<style scoped>\n",
              "    .dataframe tbody tr th:only-of-type {\n",
              "        vertical-align: middle;\n",
              "    }\n",
              "\n",
              "    .dataframe tbody tr th {\n",
              "        vertical-align: top;\n",
              "    }\n",
              "\n",
              "    .dataframe thead th {\n",
              "        text-align: right;\n",
              "    }\n",
              "</style>\n",
              "<table border=\"1\" class=\"dataframe\">\n",
              "  <thead>\n",
              "    <tr style=\"text-align: right;\">\n",
              "      <th></th>\n",
              "      <th>CONTENT</th>\n",
              "      <th>CLASS</th>\n",
              "    </tr>\n",
              "  </thead>\n",
              "  <tbody>\n",
              "    <tr>\n",
              "      <th>0</th>\n",
              "      <td>Huh, anyway check out this you[tube] channel: ...</td>\n",
              "      <td>1</td>\n",
              "    </tr>\n",
              "    <tr>\n",
              "      <th>1</th>\n",
              "      <td>Hey guys check out my new channel and our firs...</td>\n",
              "      <td>1</td>\n",
              "    </tr>\n",
              "    <tr>\n",
              "      <th>2</th>\n",
              "      <td>just for test I have to say murdev.com</td>\n",
              "      <td>1</td>\n",
              "    </tr>\n",
              "    <tr>\n",
              "      <th>3</th>\n",
              "      <td>watch?v=vtaRGgvGtWQ   Check this out .﻿</td>\n",
              "      <td>1</td>\n",
              "    </tr>\n",
              "    <tr>\n",
              "      <th>4</th>\n",
              "      <td>Hey, check out my new website!! This site is a...</td>\n",
              "      <td>1</td>\n",
              "    </tr>\n",
              "    <tr>\n",
              "      <th>5</th>\n",
              "      <td>Subscribe to my channel ﻿</td>\n",
              "      <td>1</td>\n",
              "    </tr>\n",
              "    <tr>\n",
              "      <th>6</th>\n",
              "      <td>i turned it on mute as soon is i came on i jus...</td>\n",
              "      <td>0</td>\n",
              "    </tr>\n",
              "    <tr>\n",
              "      <th>7</th>\n",
              "      <td>You should check my channel for Funny VIDEOS!!﻿</td>\n",
              "      <td>1</td>\n",
              "    </tr>\n",
              "    <tr>\n",
              "      <th>8</th>\n",
              "      <td>and u should.d check my channel and tell me wh...</td>\n",
              "      <td>1</td>\n",
              "    </tr>\n",
              "    <tr>\n",
              "      <th>9</th>\n",
              "      <td>Hey subscribe to me﻿</td>\n",
              "      <td>1</td>\n",
              "    </tr>\n",
              "  </tbody>\n",
              "</table>\n",
              "</div>\n",
              "      <button class=\"colab-df-convert\" onclick=\"convertToInteractive('df-dcfe447f-5eba-4f46-9270-9e69f06afa45')\"\n",
              "              title=\"Convert this dataframe to an interactive table.\"\n",
              "              style=\"display:none;\">\n",
              "        \n",
              "  <svg xmlns=\"http://www.w3.org/2000/svg\" height=\"24px\"viewBox=\"0 0 24 24\"\n",
              "       width=\"24px\">\n",
              "    <path d=\"M0 0h24v24H0V0z\" fill=\"none\"/>\n",
              "    <path d=\"M18.56 5.44l.94 2.06.94-2.06 2.06-.94-2.06-.94-.94-2.06-.94 2.06-2.06.94zm-11 1L8.5 8.5l.94-2.06 2.06-.94-2.06-.94L8.5 2.5l-.94 2.06-2.06.94zm10 10l.94 2.06.94-2.06 2.06-.94-2.06-.94-.94-2.06-.94 2.06-2.06.94z\"/><path d=\"M17.41 7.96l-1.37-1.37c-.4-.4-.92-.59-1.43-.59-.52 0-1.04.2-1.43.59L10.3 9.45l-7.72 7.72c-.78.78-.78 2.05 0 2.83L4 21.41c.39.39.9.59 1.41.59.51 0 1.02-.2 1.41-.59l7.78-7.78 2.81-2.81c.8-.78.8-2.07 0-2.86zM5.41 20L4 18.59l7.72-7.72 1.47 1.35L5.41 20z\"/>\n",
              "  </svg>\n",
              "      </button>\n",
              "      \n",
              "  <style>\n",
              "    .colab-df-container {\n",
              "      display:flex;\n",
              "      flex-wrap:wrap;\n",
              "      gap: 12px;\n",
              "    }\n",
              "\n",
              "    .colab-df-convert {\n",
              "      background-color: #E8F0FE;\n",
              "      border: none;\n",
              "      border-radius: 50%;\n",
              "      cursor: pointer;\n",
              "      display: none;\n",
              "      fill: #1967D2;\n",
              "      height: 32px;\n",
              "      padding: 0 0 0 0;\n",
              "      width: 32px;\n",
              "    }\n",
              "\n",
              "    .colab-df-convert:hover {\n",
              "      background-color: #E2EBFA;\n",
              "      box-shadow: 0px 1px 2px rgba(60, 64, 67, 0.3), 0px 1px 3px 1px rgba(60, 64, 67, 0.15);\n",
              "      fill: #174EA6;\n",
              "    }\n",
              "\n",
              "    [theme=dark] .colab-df-convert {\n",
              "      background-color: #3B4455;\n",
              "      fill: #D2E3FC;\n",
              "    }\n",
              "\n",
              "    [theme=dark] .colab-df-convert:hover {\n",
              "      background-color: #434B5C;\n",
              "      box-shadow: 0px 1px 3px 1px rgba(0, 0, 0, 0.15);\n",
              "      filter: drop-shadow(0px 1px 2px rgba(0, 0, 0, 0.3));\n",
              "      fill: #FFFFFF;\n",
              "    }\n",
              "  </style>\n",
              "\n",
              "      <script>\n",
              "        const buttonEl =\n",
              "          document.querySelector('#df-dcfe447f-5eba-4f46-9270-9e69f06afa45 button.colab-df-convert');\n",
              "        buttonEl.style.display =\n",
              "          google.colab.kernel.accessAllowed ? 'block' : 'none';\n",
              "\n",
              "        async function convertToInteractive(key) {\n",
              "          const element = document.querySelector('#df-dcfe447f-5eba-4f46-9270-9e69f06afa45');\n",
              "          const dataTable =\n",
              "            await google.colab.kernel.invokeFunction('convertToInteractive',\n",
              "                                                     [key], {});\n",
              "          if (!dataTable) return;\n",
              "\n",
              "          const docLinkHtml = 'Like what you see? Visit the ' +\n",
              "            '<a target=\"_blank\" href=https://colab.research.google.com/notebooks/data_table.ipynb>data table notebook</a>'\n",
              "            + ' to learn more about interactive tables.';\n",
              "          element.innerHTML = '';\n",
              "          dataTable['output_type'] = 'display_data';\n",
              "          await google.colab.output.renderOutput(dataTable, element);\n",
              "          const docLink = document.createElement('div');\n",
              "          docLink.innerHTML = docLinkHtml;\n",
              "          element.appendChild(docLink);\n",
              "        }\n",
              "      </script>\n",
              "    </div>\n",
              "  </div>\n",
              "  "
            ]
          },
          "metadata": {},
          "execution_count": 77
        }
      ]
    },
    {
      "cell_type": "code",
      "source": [
        "#concatting all data together\n",
        "df = pd.concat(all_df, axis = 0, ignore_index = True)"
      ],
      "metadata": {
        "id": "1zpjc0MJ6C0M"
      },
      "execution_count": 9,
      "outputs": []
    },
    {
      "cell_type": "code",
      "source": [
        "df.size"
      ],
      "metadata": {
        "colab": {
          "base_uri": "https://localhost:8080/"
        },
        "id": "vr2RGYLO6jrU",
        "outputId": "801863ef-1666-4720-91dd-71dc288ebb5e"
      },
      "execution_count": 10,
      "outputs": [
        {
          "output_type": "execute_result",
          "data": {
            "text/plain": [
              "3910"
            ]
          },
          "metadata": {},
          "execution_count": 10
        }
      ]
    },
    {
      "cell_type": "code",
      "source": [
        "#checking if any missing values is there\n",
        "df.isnull().sum()"
      ],
      "metadata": {
        "colab": {
          "base_uri": "https://localhost:8080/"
        },
        "id": "oYwK_kFe6lxH",
        "outputId": "9cba7808-0711-4058-fc15-020a3f8a680d"
      },
      "execution_count": 11,
      "outputs": [
        {
          "output_type": "execute_result",
          "data": {
            "text/plain": [
              "CONTENT    0\n",
              "CLASS      0\n",
              "dtype: int64"
            ]
          },
          "metadata": {},
          "execution_count": 11
        }
      ]
    },
    {
      "cell_type": "markdown",
      "source": [
        "# PREPROCESSING 🐡"
      ],
      "metadata": {
        "id": "w9EG1rN-7pai"
      }
    },
    {
      "cell_type": "markdown",
      "source": [
        "**Splitting Train and Test**"
      ],
      "metadata": {
        "id": "5NYi0K5592K6"
      }
    },
    {
      "cell_type": "code",
      "source": [
        "#selection of inputs and target\n",
        "X = df['CONTENT']\n",
        "Y = df['CLASS']"
      ],
      "metadata": {
        "id": "zYaodb-Z9LSh"
      },
      "execution_count": 25,
      "outputs": []
    },
    {
      "cell_type": "code",
      "source": [
        "Y.value_counts()"
      ],
      "metadata": {
        "colab": {
          "base_uri": "https://localhost:8080/"
        },
        "id": "LEHwRTpv-lgR",
        "outputId": "8a221a65-5746-45d1-e343-74fbe5c41516"
      },
      "execution_count": 36,
      "outputs": [
        {
          "output_type": "execute_result",
          "data": {
            "text/plain": [
              "1    1004\n",
              "0     951\n",
              "Name: CLASS, dtype: int64"
            ]
          },
          "metadata": {},
          "execution_count": 36
        }
      ]
    },
    {
      "cell_type": "code",
      "source": [
        "# splitting arrays into train and test\n",
        "# Test size of 20% of the data goes to testing.\n",
        "# Since 'train_test_split()' distributes the points randomly, we set a seed equal to 17\n",
        "# The 'stratify' argument allows for splitting the data in such a way that\n",
        "# the training and the testing datasets contain an equal portion of samples from both classes.\n",
        "X_train, X_test, Y_train, Y_test = train_test_split(X, Y, \n",
        "                                                    test_size= 0.2, \n",
        "                                                    random_state = 17,\n",
        "                                                    stratify = Y)"
      ],
      "metadata": {
        "id": "aY-HwmVZ9LHj"
      },
      "execution_count": 78,
      "outputs": []
    },
    {
      "cell_type": "code",
      "source": [
        "print('Train',Y_train.value_counts(),'Test',Y_test.value_counts())"
      ],
      "metadata": {
        "colab": {
          "base_uri": "https://localhost:8080/"
        },
        "id": "XbMHVc7x-ncM",
        "outputId": "05fedf6f-63e3-40ed-9122-f74b39544b45"
      },
      "execution_count": 37,
      "outputs": [
        {
          "output_type": "stream",
          "name": "stdout",
          "text": [
            "Train 1    803\n",
            "0    761\n",
            "Name: CLASS, dtype: int64 Test 1    201\n",
            "0    190\n",
            "Name: CLASS, dtype: int64\n"
          ]
        }
      ]
    },
    {
      "cell_type": "markdown",
      "source": [
        "**Vectorizer - Tokenizing comments**"
      ],
      "metadata": {
        "id": "v7HGmlg299V-"
      }
    },
    {
      "cell_type": "code",
      "source": [
        "#tokenizing the words in the comments after splitting.\n",
        "#so that the comments in train set are not learnt by tokenizer.\n",
        "vectorizer = CountVectorizer()"
      ],
      "metadata": {
        "id": "XLGx5ey0979A"
      },
      "execution_count": 33,
      "outputs": []
    },
    {
      "cell_type": "code",
      "source": [
        "#fitting + transforming X_train\n",
        "#transforming X_test\n",
        "X_train_tf = vectorizer.fit_transform(X_train)\n",
        "X_test_tf = vectorizer.transform(X_test)"
      ],
      "metadata": {
        "id": "oR7V3cKq9nIO"
      },
      "execution_count": 34,
      "outputs": []
    },
    {
      "cell_type": "code",
      "source": [
        "X_train_tf.shape"
      ],
      "metadata": {
        "colab": {
          "base_uri": "https://localhost:8080/"
        },
        "id": "4mulOI1X9nEP",
        "outputId": "9c4f7fa0-f26c-4ab9-e233-ef7c4c82fa7a"
      },
      "execution_count": 35,
      "outputs": [
        {
          "output_type": "execute_result",
          "data": {
            "text/plain": [
              "(1564, 3812)"
            ]
          },
          "metadata": {},
          "execution_count": 35
        }
      ]
    },
    {
      "cell_type": "code",
      "source": [
        "X_train_tf.toarray()"
      ],
      "metadata": {
        "id": "BBvyVKv3dkgi"
      },
      "execution_count": null,
      "outputs": []
    },
    {
      "cell_type": "markdown",
      "source": [
        "#NAIVE BAYES CLASSIFIERS 🤛\n",
        "\n",
        "We have a variety of classifiers in sklearn\n",
        "\n",
        "1 - Gaussian: likelihood is assumed to be Gaussian. Most suitable when features are continuous.  \n",
        "2 - Bernoulli: assuming binary-valued features.  \n",
        "3 - Categorical: assuming each category has its own distribution.  \n",
        "\n",
        "Two models below are best suited for text classification. Imblanced dataset are better handled.  \n",
        "4 - *Multinomial*  \n",
        "5 - *Complement*  "
      ],
      "metadata": {
        "id": "60RfcANp_Sbd"
      }
    },
    {
      "cell_type": "markdown",
      "source": [
        "###**1-Defining MultinomialNB**"
      ],
      "metadata": {
        "id": "-uYVce_BBoSE"
      }
    },
    {
      "cell_type": "code",
      "source": [
        "#first let's instanticate Multinomial Naive Bayes classifier\n",
        "clf = MultinomialNB()"
      ],
      "metadata": {
        "id": "N92KiMi99m-i"
      },
      "execution_count": 39,
      "outputs": []
    },
    {
      "cell_type": "code",
      "source": [
        "clf.fit(X_train_tf, Y_train)"
      ],
      "metadata": {
        "colab": {
          "base_uri": "https://localhost:8080/"
        },
        "id": "OFsMrskG9m52",
        "outputId": "da9b965f-e583-4e15-e207-beea9ec3bc01"
      },
      "execution_count": 40,
      "outputs": [
        {
          "output_type": "execute_result",
          "data": {
            "text/plain": [
              "MultinomialNB()"
            ]
          },
          "metadata": {},
          "execution_count": 40
        }
      ]
    },
    {
      "cell_type": "code",
      "source": [
        "#alpha: smoothing parameters\n",
        "#class_prior: specific values for prior probabilities\n",
        "#fit_prior: boolean, priors are uniform by default.\n",
        "clf.get_params()"
      ],
      "metadata": {
        "colab": {
          "base_uri": "https://localhost:8080/"
        },
        "id": "peOKl-8Q9m1j",
        "outputId": "d219eb95-b779-46dc-cac3-f6b7bec365e8"
      },
      "execution_count": 42,
      "outputs": [
        {
          "output_type": "execute_result",
          "data": {
            "text/plain": [
              "{'alpha': 1.0, 'class_prior': None, 'fit_prior': True}"
            ]
          },
          "metadata": {},
          "execution_count": 42
        }
      ]
    },
    {
      "cell_type": "code",
      "source": [
        "#predicting test data\n",
        "Y_test_pred = clf.predict(X_test_tf)"
      ],
      "metadata": {
        "id": "Ps9o9sW3CgLH"
      },
      "execution_count": 47,
      "outputs": []
    },
    {
      "cell_type": "code",
      "source": [
        "sns.reset_orig()\n",
        "\n",
        "ConfusionMatrixDisplay.from_predictions(\n",
        "    Y_test, Y_test_pred,\n",
        "    labels = clf.classes_,\n",
        "    cmap= 'inferno'\n",
        ")"
      ],
      "metadata": {
        "colab": {
          "base_uri": "https://localhost:8080/",
          "height": 296
        },
        "id": "UvNhXV1sCuHm",
        "outputId": "2cacef63-ad07-4c7f-9ea2-34502895d476"
      },
      "execution_count": 68,
      "outputs": [
        {
          "output_type": "execute_result",
          "data": {
            "text/plain": [
              "<sklearn.metrics._plot.confusion_matrix.ConfusionMatrixDisplay at 0x7fa07f65e9d0>"
            ]
          },
          "metadata": {},
          "execution_count": 68
        },
        {
          "output_type": "display_data",
          "data": {
            "text/plain": [
              "<Figure size 432x288 with 2 Axes>"
            ],
            "image/png": "[encoded data removed]"
          },
          "metadata": {
            "needs_background": "light"
          }
        }
      ]
    },
    {
      "cell_type": "markdown",
      "source": [
        "**Results**  \n",
        "True Negative= 176 (negative samples correctly predicted)  \n",
        "True Positive = 191 (positive samples correctly predicted)  \n",
        "\n",
        "False predictions  \n",
        "False Negative = 10 (Type 1 errors, false alarms, detected as spam but harmless samples)  \n",
        "False Positive = 14 (Type 2 errors, a miss)  \n",
        "\n",
        "We identified almost correctly all spam messages."
      ],
      "metadata": {
        "id": "EttKbc6YECAc"
      }
    },
    {
      "cell_type": "code",
      "source": [
        "#Let's check other metrics\n",
        "print(classification_report(Y_test, Y_test_pred, target_names = ['OK','Spam']))\n"
      ],
      "metadata": {
        "colab": {
          "base_uri": "https://localhost:8080/"
        },
        "id": "y_mpP2xjFC-B",
        "outputId": "7a020ad2-f68f-434f-f964-6758aa490800"
      },
      "execution_count": 53,
      "outputs": [
        {
          "output_type": "stream",
          "name": "stdout",
          "text": [
            "              precision    recall  f1-score   support\n",
            "\n",
            "          OK       0.95      0.93      0.94       190\n",
            "        Spam       0.93      0.95      0.94       201\n",
            "\n",
            "    accuracy                           0.94       391\n",
            "   macro avg       0.94      0.94      0.94       391\n",
            "weighted avg       0.94      0.94      0.94       391\n",
            "\n"
          ]
        }
      ]
    },
    {
      "cell_type": "markdown",
      "source": [
        "**Accuracy, F1 Score, Precision, Recall**\n",
        "Accuracy = (TN + TP) / allsampes -> probability of predicting spam or not correctly  \n",
        "Precisions = TP / (TP + FP)  \n",
        " -> probability of predicting spam as a true spam over all samples classified as spam  \n",
        "--- ---\n",
        "Recall = TP / (TP + FN)  \n",
        "-> how many true spams has caught and how many has been missed.  \n",
        "--- ---\n",
        "F1 = harmonic mean of precision and recall  \n",
        " = 2 / [ (1/0.97) + (1/0.88) ]  \n",
        "Check this result with arithmetic mean  = (precision + Recall) / 2   "
      ],
      "metadata": {
        "id": "JumRcpZpFCqV"
      }
    },
    {
      "cell_type": "markdown",
      "source": [
        "###**2-Defining ComplementNB**"
      ],
      "metadata": {
        "id": "kuJNddZgB0wz"
      }
    },
    {
      "cell_type": "code",
      "source": [
        "#second let's use Complement NB\n",
        "clf2 = ComplementNB()"
      ],
      "metadata": {
        "id": "5FXi2Nu9B_Yz"
      },
      "execution_count": 69,
      "outputs": []
    },
    {
      "cell_type": "code",
      "source": [
        "clf2.fit(X_train_tf, Y_train)"
      ],
      "metadata": {
        "colab": {
          "base_uri": "https://localhost:8080/"
        },
        "id": "rFFxHqQM9mta",
        "outputId": "dc3dfa34-46c4-4d79-e1a9-39932b96b7de"
      },
      "execution_count": 70,
      "outputs": [
        {
          "output_type": "execute_result",
          "data": {
            "text/plain": [
              "ComplementNB()"
            ]
          },
          "metadata": {},
          "execution_count": 70
        }
      ]
    },
    {
      "cell_type": "code",
      "source": [
        "#alpha: smoothing parameters\n",
        "#class_prior: specific values for prior probabilities\n",
        "#fit_prior: boolean, priors are uniform by default.\n",
        "clf2.get_params()"
      ],
      "metadata": {
        "colab": {
          "base_uri": "https://localhost:8080/"
        },
        "id": "suQ6lD4P6pSf",
        "outputId": "ecda2b88-58c0-45d5-9b1f-9777286f501b"
      },
      "execution_count": 71,
      "outputs": [
        {
          "output_type": "execute_result",
          "data": {
            "text/plain": [
              "{'alpha': 1.0, 'class_prior': None, 'fit_prior': True, 'norm': False}"
            ]
          },
          "metadata": {},
          "execution_count": 71
        }
      ]
    },
    {
      "cell_type": "code",
      "source": [
        "#predicting test data\n",
        "Y_test_pred = clf2.predict(X_test_tf)"
      ],
      "metadata": {
        "id": "6CNQTGLRMUDC"
      },
      "execution_count": 72,
      "outputs": []
    },
    {
      "cell_type": "code",
      "source": [
        "sns.reset_orig()\n",
        "\n",
        "ConfusionMatrixDisplay.from_predictions(\n",
        "    Y_test, Y_test_pred,\n",
        "    labels = clf2.classes_,\n",
        "    cmap= 'inferno'\n",
        ")"
      ],
      "metadata": {
        "colab": {
          "base_uri": "https://localhost:8080/",
          "height": 296
        },
        "outputId": "5ec353e7-afc7-40d4-d3ca-079df683d816",
        "id": "9H3JJhMMMUDD"
      },
      "execution_count": 73,
      "outputs": [
        {
          "output_type": "execute_result",
          "data": {
            "text/plain": [
              "<sklearn.metrics._plot.confusion_matrix.ConfusionMatrixDisplay at 0x7fa07f050410>"
            ]
          },
          "metadata": {},
          "execution_count": 73
        },
        {
          "output_type": "display_data",
          "data": {
            "text/plain": [
              "<Figure size 432x288 with 2 Axes>"
            ],
            "image/png": "[encoded data removed]"
          },
          "metadata": {
            "needs_background": "light"
          }
        }
      ]
    },
    {
      "cell_type": "markdown",
      "source": [
        "**Results**  \n",
        "True Negative= 180 (negative samples correctly predicted)  \n",
        "True Positive = 191 (positive samples correctly predicted)  \n",
        "\n",
        "False predictions  \n",
        "False Negative = 10 (Type 1 errors, false alarms, detected as spam but harmless samples)  \n",
        "False Positive = 10 (Type 2 errors, a miss)  \n",
        "\n",
        "We identified almost correctly all spam messages."
      ],
      "metadata": {
        "id": "Eny0lHFsMUDE"
      }
    },
    {
      "cell_type": "code",
      "source": [
        "#Let's check other metrics\n",
        "print(classification_report(Y_test, Y_test_pred, target_names = ['OK','Spam']))\n"
      ],
      "metadata": {
        "colab": {
          "base_uri": "https://localhost:8080/"
        },
        "outputId": "a3c89fd0-3baf-4594-f4d7-542b806d4438",
        "id": "rAm0yzS_MUDE"
      },
      "execution_count": 74,
      "outputs": [
        {
          "output_type": "stream",
          "name": "stdout",
          "text": [
            "              precision    recall  f1-score   support\n",
            "\n",
            "          OK       0.95      0.95      0.95       190\n",
            "        Spam       0.95      0.95      0.95       201\n",
            "\n",
            "    accuracy                           0.95       391\n",
            "   macro avg       0.95      0.95      0.95       391\n",
            "weighted avg       0.95      0.95      0.95       391\n",
            "\n"
          ]
        }
      ]
    },
    {
      "cell_type": "markdown",
      "source": [
        "**Observations:**  \n",
        "We can observe that the performance of two approahces MultinominalNB and complementNB are close to each other, both predict almost spams almost correctly. F1 score of ComplementNB is only 1% better. \n",
        "\n",
        "We can conclude that the training a machine learning model with Naives Bayes classification was successful on Youtube Spam Comment classification."
      ],
      "metadata": {
        "id": "ZDmzVdvIg1Qd"
      }
    },
    {
      "cell_type": "code",
      "source": [
        "#creating probability-distribution figures \n",
        "# adapted from 365 datascience project. \n",
        "# ref. https://learn.365datascience.com/courses/machine-learning-with-naive-bayes\n",
        "\n",
        "# For each ovservation, store its probability of being a spam. Round it to 3 digits after the decimal points.\n",
        "# These probabilities will later serve as the x-coordinates of a scatter plot\n",
        "spam_proba = clf.predict_proba(X_test_tf).round(3)[:,1];\n",
        "\n",
        "# Create a new data frame which will store the true classes, the predicted classes and the predicted probability\n",
        "# for an observation to belong to the spam class\n",
        "df_scatter = pd.DataFrame()\n",
        "\n",
        "# Create the columns of the data frame\n",
        "df_scatter['True class'] = Y_test\n",
        "df_scatter['Predicted class'] = Y_test_pred\n",
        "df_scatter['Predicted probability (spam)'] = spam_proba\n",
        "\n",
        "# Reset the index of the data frame, so that the indexing is sequential\n",
        "df_scatter = df_scatter.reset_index(drop = True)\n",
        "\n",
        "# Create two new data frames. The first one stores the samples whose true class is 0.\n",
        "# The second one stores the samples whose true class is 1.\n",
        "df_scatter_0 = df_scatter[df_scatter['True class'] == 0].reset_index(drop = True)\n",
        "df_scatter_1 = df_scatter[df_scatter['True class'] == 1].reset_index(drop = True)\n",
        "\n",
        "# Set the seaborn style\n",
        "sns.set()\n",
        "\n",
        "# Create two subfigures, so that they are arranged in 2 rows and 1 column.\n",
        "# Set the size of the figures\n",
        "fig, (ax1, ax2) = plt.subplots(2, 1, figsize=(12,5))\n",
        "fig.tight_layout(pad = 3)\n",
        "\n",
        "# Create a scatter plot.\n",
        "# On the x-axis, we have the predicted probability of a comment being a spam.\n",
        "# The y-axis takes only one value - zero. We create an array full of zeros having a length equal to \n",
        "sns.scatterplot(x = 'Predicted probability (spam)', \n",
        "                y = np.zeros(df_scatter_0.shape[0]), \n",
        "                data = df_scatter_0,\n",
        "                hue = 'True class', \n",
        "                markers = ['o'],\n",
        "                style = 'True class',\n",
        "                legend = False, \n",
        "                ax = ax1).set(yticklabels=[])\n",
        "\n",
        "# Set a title above the first plot.\n",
        "ax1.set_title('Probability distribution of comments belonging to the true \\'non-spam\\' class')\n",
        "ax1.vlines(0.5, -1, 1, linestyles = 'dashed', colors = 'red');\n",
        "\n",
        "# The comments above apply to this plot. The code is adapted to the spam class\n",
        "sns.scatterplot(x = 'Predicted probability (spam)', \n",
        "                y = np.zeros(df_scatter_1.shape[0]), \n",
        "                hue = 'True class', \n",
        "                data = df_scatter_1,\n",
        "                s = 50,\n",
        "                markers = ['X'],\n",
        "                style = 'True class',\n",
        "                legend = False, \n",
        "                ax = ax2).set(yticklabels=[])\n",
        "# Set a title above the second plot.\n",
        "ax2.set_title('Probability distribution of comments belonging to the true \\'spam\\' class')\n",
        "# Create a red vertical dahsed line for the second plot\n",
        "ax2.vlines(0.5, -1, 1, linestyles = 'dashed', colors = 'red');"
      ],
      "metadata": {
        "colab": {
          "base_uri": "https://localhost:8080/",
          "height": 348
        },
        "outputId": "4f6411a7-657c-4bd2-c11d-d5091b30ebe6",
        "id": "4SoPprCYMUDF"
      },
      "execution_count": 82,
      "outputs": [
        {
          "output_type": "display_data",
          "data": {
            "text/plain": [
              "<Figure size 864x360 with 2 Axes>"
            ],
            "image/png": "[encoded data removed]"
          },
          "metadata": {}
        }
      ]
    },
    {
      "cell_type": "markdown",
      "source": [
        "#CONCLUSION"
      ],
      "metadata": {
        "id": "v93e6Bn6hvfc"
      }
    },
    {
      "cell_type": "markdown",
      "source": [
        "Spams in the comment section of Youtube videos are neccessary to be filtered out seen the gigantic amount of visitors to the website. In this notebook, two machine learning models were trained to classify whether a Youtube comment is spam or not.\n",
        "\n",
        "We conclude that\n",
        "\n",
        "* Two approaches MultinominalNB and complementNB were found to predict almost all of the spam comments correctly. F1 score of ComplementNB is 95%, only 1% better than MultinominalNB.\n",
        "\n",
        "* Either Naive Bayes model can be used to filter out these comments including spams."
      ],
      "metadata": {
        "id": "B1dAusuth4tR"
      }
    },
    {
      "cell_type": "markdown",
      "source": [
        "--- END OF NOTEBOOK ---\n",
        "#END"
      ],
      "metadata": {
        "id": "cI6-vlm_MWk9"
      }
    }
  ]
}